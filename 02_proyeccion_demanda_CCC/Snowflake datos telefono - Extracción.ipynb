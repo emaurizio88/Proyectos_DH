{
 "cells": [
  {
   "cell_type": "code",
   "execution_count": 1,
   "id": "e34bbca2",
   "metadata": {},
   "outputs": [],
   "source": [
    "import pandas as pd\n",
    "import numpy as np\n",
    "#!pip install snowflake\n",
    "import snowflake.connector\n",
    "from sqlalchemy import create_engine\n",
    "from snowflake.sqlalchemy import URL\n",
    "#!pip install snowflake-connector-python[pandas]\n",
    "#!pip install --upgrade snowflake-sqlalchemy"
   ]
  },
  {
   "cell_type": "code",
   "execution_count": 2,
   "id": "695b6ed9",
   "metadata": {},
   "outputs": [],
   "source": [
    "servidor = 'xba17848' # .snowflakecomputing.com\n",
    "DATABASES =[\"DB_NARANJA_DATA_MODELS\", \"DB_NARANJA_FACTS_ANALYTICS\", \"DB_NARANJA_WORKSPACE\"]\n",
    "mail = 'agustina.hilal@naranjax.com'\n",
    "warehouse = \"COMPUTE_USERS\"\n",
    "role = \"AZAWS-DATALAKE-CONSUMERS_ANALISTANEGOCIOCLIENTE\"\n",
    "SCHEMA = {\"DB_NARANJA_DATA_MODELS\"     : [\"DATA\", \"INFORMATION_SCHEMA\"], \n",
    "          \"DB_NARANJA_FACTS_ANALYTICS\" : [\"VIEWS\", \"DW\", \"INFORMATION_SCHEMA\"], \n",
    "          \"DB_NARANJA_WORKSPACE\"       : [\"PUBLIC\", \"ACADEMIA\", \"INFORMATION_SCHEMA\", \"MATILLION_STAGING\"]\n",
    "         }\n",
    "region = \"us-east-1\"\n",
    "\n",
    "db = DATABASES[1]\n",
    "schema = SCHEMA[db][0]"
   ]
  },
  {
   "cell_type": "code",
   "execution_count": 3,
   "id": "d50a7165",
   "metadata": {},
   "outputs": [
    {
     "name": "stdout",
     "output_type": "stream",
     "text": [
      "Initiating login request with your identity provider. A browser window should have opened for you to complete the login. If you can't see it, check existing browser windows, or your OS settings. Press CTRL+C to abort and try again...\n",
      "Going to open: https://login.microsoftonline.com/1012c700-e42c-4aa6-9f4d-3dac6033b0f4/saml2?SAMLRequest=lZLNbuIwFEZfJfKsk9ghw48FVCmoGlTooEJZzM5xHHBxbOrrEPr244QidRatNLvIOZ997O%2BO7y6VCs7CgjR6gkiEUSA0N4XU%2Bwl62T6EQxSAY7pgymgxQe8C0N10DKxSJ5rV7qCfxVstwAV%2BIw20%2BzFBtdXUMJBANasEUMfpJlstaRJherLGGW4U%2BhT5PsEAhHXe8BYpQHq9g3MnGsdN00RNLzJ2HycY4xiPYk%2B1yI8bf%2FF3%2BoInMU5b3hMeX3%2B43Ut9fYLvtPIrBPTXdrsO1783WxRkN9WZ0VBXwm6EPUsuXp6XVwHwBpeckcEwHUY1hIKBC0kE2jSlYkfBTXWqnd828l9xKYpYmb30N1%2FMJ%2Bh0lMX9fPN4fpUL%2Fbh6W64OfEDw3h1Nnu9YXuxeV%2BXxsstmdpaphqNgd6s2aatdANRiodtCnV%2FCSRriNCT9LRnSZEjJKOr%2FJH9QMPeFSs1cl7xZdx5RJbk1YEpntJJadJYEk4QPMA5FmvAwZawfjsq0CHsF433c6%2BW4TOO25gRdR4d2Inb63w8yjj%2FHP8bwyTezmK%2BNkvw9eDC2Yu7r4khEuhVZhGWHUlExqbKisALAF6iUaWZWMOen3dlaoHh6PfXfeZ%2F%2BBQ%3D%3D&RelayState=51199 to authenticate...\n"
     ]
    }
   ],
   "source": [
    "url = URL(authenticator='externalbrowser',\n",
    "    account = servidor,\n",
    "    region = region,\n",
    "    user = 'agustina.hilal@naranjax.com',\n",
    "    database = db,\n",
    "    schema = schema,\n",
    "    warehouse = warehouse,\n",
    "    role = role\n",
    ")\n",
    "\n",
    "engine = create_engine(url)\n",
    "connection = engine.connect()"
   ]
  },
  {
   "cell_type": "code",
   "execution_count": null,
   "id": "e88a8288",
   "metadata": {
    "scrolled": false
   },
   "outputs": [],
   "source": [
    "sql_query = \"\"\"\n",
    "SELECT *\n",
    "FROM  \"DB_NARANJA_FACTS_ANALYTICS\".\"VIEWS\".\"TB_NARANJA_AR_AVAYA_CHHNARANJA_VW\"\n",
    "LIMIT 10\n",
    "\"\"\"\n",
    "\n",
    "data =  pd.read_sql(sql_query, connection)\n",
    "#chh_diario.Fecha = pd.to_datetime(chh_diario.Fecha)\n",
    "#chh_diario = chh_vol_diario.set_index(\"fecha\")\n",
    "\n",
    "data"
   ]
  },
  {
   "cell_type": "code",
   "execution_count": null,
   "id": "0fe6c53f",
   "metadata": {},
   "outputs": [],
   "source": []
  }
 ],
 "metadata": {
  "kernelspec": {
   "display_name": "Python 3 (ipykernel)",
   "language": "python",
   "name": "python3"
  },
  "language_info": {
   "codemirror_mode": {
    "name": "ipython",
    "version": 3
   },
   "file_extension": ".py",
   "mimetype": "text/x-python",
   "name": "python",
   "nbconvert_exporter": "python",
   "pygments_lexer": "ipython3",
   "version": "3.11.5"
  }
 },
 "nbformat": 4,
 "nbformat_minor": 5
}
